{
 "cells": [
  {
   "cell_type": "code",
   "execution_count": 183,
   "metadata": {},
   "outputs": [
    {
     "data": {
      "text/html": [
       "<div>\n",
       "<style scoped>\n",
       "    .dataframe tbody tr th:only-of-type {\n",
       "        vertical-align: middle;\n",
       "    }\n",
       "\n",
       "    .dataframe tbody tr th {\n",
       "        vertical-align: top;\n",
       "    }\n",
       "\n",
       "    .dataframe thead th {\n",
       "        text-align: right;\n",
       "    }\n",
       "</style>\n",
       "<table border=\"1\" class=\"dataframe\">\n",
       "  <thead>\n",
       "    <tr style=\"text-align: right;\">\n",
       "      <th></th>\n",
       "      <th>adult</th>\n",
       "      <th>belongs_to_collection</th>\n",
       "      <th>budget</th>\n",
       "      <th>genres</th>\n",
       "      <th>homepage</th>\n",
       "      <th>id</th>\n",
       "      <th>imdb_id</th>\n",
       "      <th>original_language</th>\n",
       "      <th>original_title</th>\n",
       "      <th>overview</th>\n",
       "      <th>...</th>\n",
       "      <th>release_date</th>\n",
       "      <th>revenue</th>\n",
       "      <th>runtime</th>\n",
       "      <th>spoken_languages</th>\n",
       "      <th>status</th>\n",
       "      <th>tagline</th>\n",
       "      <th>title</th>\n",
       "      <th>video</th>\n",
       "      <th>vote_average</th>\n",
       "      <th>vote_count</th>\n",
       "    </tr>\n",
       "  </thead>\n",
       "  <tbody>\n",
       "    <tr>\n",
       "      <th>0</th>\n",
       "      <td>False</td>\n",
       "      <td>{'id': 10194, 'name': 'Toy Story Collection', ...</td>\n",
       "      <td>30000000</td>\n",
       "      <td>[{'id': 16, 'name': 'Animation'}, {'id': 35, '...</td>\n",
       "      <td>http://toystory.disney.com/toy-story</td>\n",
       "      <td>862</td>\n",
       "      <td>tt0114709</td>\n",
       "      <td>en</td>\n",
       "      <td>Toy Story</td>\n",
       "      <td>Led by Woody, Andy's toys live happily in his ...</td>\n",
       "      <td>...</td>\n",
       "      <td>1995-10-30</td>\n",
       "      <td>373554033.0</td>\n",
       "      <td>81.0</td>\n",
       "      <td>[{'iso_639_1': 'en', 'name': 'English'}]</td>\n",
       "      <td>Released</td>\n",
       "      <td>NaN</td>\n",
       "      <td>Toy Story</td>\n",
       "      <td>False</td>\n",
       "      <td>7.7</td>\n",
       "      <td>5415.0</td>\n",
       "    </tr>\n",
       "    <tr>\n",
       "      <th>1</th>\n",
       "      <td>False</td>\n",
       "      <td>NaN</td>\n",
       "      <td>65000000</td>\n",
       "      <td>[{'id': 12, 'name': 'Adventure'}, {'id': 14, '...</td>\n",
       "      <td>NaN</td>\n",
       "      <td>8844</td>\n",
       "      <td>tt0113497</td>\n",
       "      <td>en</td>\n",
       "      <td>Jumanji</td>\n",
       "      <td>When siblings Judy and Peter discover an encha...</td>\n",
       "      <td>...</td>\n",
       "      <td>1995-12-15</td>\n",
       "      <td>262797249.0</td>\n",
       "      <td>104.0</td>\n",
       "      <td>[{'iso_639_1': 'en', 'name': 'English'}, {'iso...</td>\n",
       "      <td>Released</td>\n",
       "      <td>Roll the dice and unleash the excitement!</td>\n",
       "      <td>Jumanji</td>\n",
       "      <td>False</td>\n",
       "      <td>6.9</td>\n",
       "      <td>2413.0</td>\n",
       "    </tr>\n",
       "    <tr>\n",
       "      <th>2</th>\n",
       "      <td>False</td>\n",
       "      <td>{'id': 119050, 'name': 'Grumpy Old Men Collect...</td>\n",
       "      <td>0</td>\n",
       "      <td>[{'id': 10749, 'name': 'Romance'}, {'id': 35, ...</td>\n",
       "      <td>NaN</td>\n",
       "      <td>15602</td>\n",
       "      <td>tt0113228</td>\n",
       "      <td>en</td>\n",
       "      <td>Grumpier Old Men</td>\n",
       "      <td>A family wedding reignites the ancient feud be...</td>\n",
       "      <td>...</td>\n",
       "      <td>1995-12-22</td>\n",
       "      <td>0.0</td>\n",
       "      <td>101.0</td>\n",
       "      <td>[{'iso_639_1': 'en', 'name': 'English'}]</td>\n",
       "      <td>Released</td>\n",
       "      <td>Still Yelling. Still Fighting. Still Ready for...</td>\n",
       "      <td>Grumpier Old Men</td>\n",
       "      <td>False</td>\n",
       "      <td>6.5</td>\n",
       "      <td>92.0</td>\n",
       "    </tr>\n",
       "    <tr>\n",
       "      <th>3</th>\n",
       "      <td>False</td>\n",
       "      <td>NaN</td>\n",
       "      <td>16000000</td>\n",
       "      <td>[{'id': 35, 'name': 'Comedy'}, {'id': 18, 'nam...</td>\n",
       "      <td>NaN</td>\n",
       "      <td>31357</td>\n",
       "      <td>tt0114885</td>\n",
       "      <td>en</td>\n",
       "      <td>Waiting to Exhale</td>\n",
       "      <td>Cheated on, mistreated and stepped on, the wom...</td>\n",
       "      <td>...</td>\n",
       "      <td>1995-12-22</td>\n",
       "      <td>81452156.0</td>\n",
       "      <td>127.0</td>\n",
       "      <td>[{'iso_639_1': 'en', 'name': 'English'}]</td>\n",
       "      <td>Released</td>\n",
       "      <td>Friends are the people who let you be yourself...</td>\n",
       "      <td>Waiting to Exhale</td>\n",
       "      <td>False</td>\n",
       "      <td>6.1</td>\n",
       "      <td>34.0</td>\n",
       "    </tr>\n",
       "    <tr>\n",
       "      <th>4</th>\n",
       "      <td>False</td>\n",
       "      <td>{'id': 96871, 'name': 'Father of the Bride Col...</td>\n",
       "      <td>0</td>\n",
       "      <td>[{'id': 35, 'name': 'Comedy'}]</td>\n",
       "      <td>NaN</td>\n",
       "      <td>11862</td>\n",
       "      <td>tt0113041</td>\n",
       "      <td>en</td>\n",
       "      <td>Father of the Bride Part II</td>\n",
       "      <td>Just when George Banks has recovered from his ...</td>\n",
       "      <td>...</td>\n",
       "      <td>1995-02-10</td>\n",
       "      <td>76578911.0</td>\n",
       "      <td>106.0</td>\n",
       "      <td>[{'iso_639_1': 'en', 'name': 'English'}]</td>\n",
       "      <td>Released</td>\n",
       "      <td>Just When His World Is Back To Normal... He's ...</td>\n",
       "      <td>Father of the Bride Part II</td>\n",
       "      <td>False</td>\n",
       "      <td>5.7</td>\n",
       "      <td>173.0</td>\n",
       "    </tr>\n",
       "  </tbody>\n",
       "</table>\n",
       "<p>5 rows × 24 columns</p>\n",
       "</div>"
      ],
      "text/plain": [
       "   adult                              belongs_to_collection    budget  \\\n",
       "0  False  {'id': 10194, 'name': 'Toy Story Collection', ...  30000000   \n",
       "1  False                                                NaN  65000000   \n",
       "2  False  {'id': 119050, 'name': 'Grumpy Old Men Collect...         0   \n",
       "3  False                                                NaN  16000000   \n",
       "4  False  {'id': 96871, 'name': 'Father of the Bride Col...         0   \n",
       "\n",
       "                                              genres  \\\n",
       "0  [{'id': 16, 'name': 'Animation'}, {'id': 35, '...   \n",
       "1  [{'id': 12, 'name': 'Adventure'}, {'id': 14, '...   \n",
       "2  [{'id': 10749, 'name': 'Romance'}, {'id': 35, ...   \n",
       "3  [{'id': 35, 'name': 'Comedy'}, {'id': 18, 'nam...   \n",
       "4                     [{'id': 35, 'name': 'Comedy'}]   \n",
       "\n",
       "                               homepage     id    imdb_id original_language  \\\n",
       "0  http://toystory.disney.com/toy-story    862  tt0114709                en   \n",
       "1                                   NaN   8844  tt0113497                en   \n",
       "2                                   NaN  15602  tt0113228                en   \n",
       "3                                   NaN  31357  tt0114885                en   \n",
       "4                                   NaN  11862  tt0113041                en   \n",
       "\n",
       "                original_title  \\\n",
       "0                    Toy Story   \n",
       "1                      Jumanji   \n",
       "2             Grumpier Old Men   \n",
       "3            Waiting to Exhale   \n",
       "4  Father of the Bride Part II   \n",
       "\n",
       "                                            overview  ... release_date  \\\n",
       "0  Led by Woody, Andy's toys live happily in his ...  ...   1995-10-30   \n",
       "1  When siblings Judy and Peter discover an encha...  ...   1995-12-15   \n",
       "2  A family wedding reignites the ancient feud be...  ...   1995-12-22   \n",
       "3  Cheated on, mistreated and stepped on, the wom...  ...   1995-12-22   \n",
       "4  Just when George Banks has recovered from his ...  ...   1995-02-10   \n",
       "\n",
       "       revenue runtime                                   spoken_languages  \\\n",
       "0  373554033.0    81.0           [{'iso_639_1': 'en', 'name': 'English'}]   \n",
       "1  262797249.0   104.0  [{'iso_639_1': 'en', 'name': 'English'}, {'iso...   \n",
       "2          0.0   101.0           [{'iso_639_1': 'en', 'name': 'English'}]   \n",
       "3   81452156.0   127.0           [{'iso_639_1': 'en', 'name': 'English'}]   \n",
       "4   76578911.0   106.0           [{'iso_639_1': 'en', 'name': 'English'}]   \n",
       "\n",
       "     status                                            tagline  \\\n",
       "0  Released                                                NaN   \n",
       "1  Released          Roll the dice and unleash the excitement!   \n",
       "2  Released  Still Yelling. Still Fighting. Still Ready for...   \n",
       "3  Released  Friends are the people who let you be yourself...   \n",
       "4  Released  Just When His World Is Back To Normal... He's ...   \n",
       "\n",
       "                         title  video vote_average vote_count  \n",
       "0                    Toy Story  False          7.7     5415.0  \n",
       "1                      Jumanji  False          6.9     2413.0  \n",
       "2             Grumpier Old Men  False          6.5       92.0  \n",
       "3            Waiting to Exhale  False          6.1       34.0  \n",
       "4  Father of the Bride Part II  False          5.7      173.0  \n",
       "\n",
       "[5 rows x 24 columns]"
      ]
     },
     "execution_count": 183,
     "metadata": {},
     "output_type": "execute_result"
    }
   ],
   "source": [
    "import pandas as pd \n",
    "df = pd.read_csv(r'C:\\Users\\mhdih\\OneDrive\\Desktop\\uni\\D3_project_files\\movies_metadata.csv', low_memory=False)\n",
    "df.head()"
   ]
  },
  {
   "cell_type": "code",
   "execution_count": 184,
   "metadata": {},
   "outputs": [
    {
     "data": {
      "text/plain": [
       "<bound method NDFrame.describe of        adult                              belongs_to_collection    budget  \\\n",
       "0      False  {'id': 10194, 'name': 'Toy Story Collection', ...  30000000   \n",
       "1      False                                                NaN  65000000   \n",
       "2      False  {'id': 119050, 'name': 'Grumpy Old Men Collect...         0   \n",
       "3      False                                                NaN  16000000   \n",
       "4      False  {'id': 96871, 'name': 'Father of the Bride Col...         0   \n",
       "...      ...                                                ...       ...   \n",
       "45461  False                                                NaN         0   \n",
       "45462  False                                                NaN         0   \n",
       "45463  False                                                NaN         0   \n",
       "45464  False                                                NaN         0   \n",
       "45465  False                                                NaN         0   \n",
       "\n",
       "                                                  genres  \\\n",
       "0      [{'id': 16, 'name': 'Animation'}, {'id': 35, '...   \n",
       "1      [{'id': 12, 'name': 'Adventure'}, {'id': 14, '...   \n",
       "2      [{'id': 10749, 'name': 'Romance'}, {'id': 35, ...   \n",
       "3      [{'id': 35, 'name': 'Comedy'}, {'id': 18, 'nam...   \n",
       "4                         [{'id': 35, 'name': 'Comedy'}]   \n",
       "...                                                  ...   \n",
       "45461  [{'id': 18, 'name': 'Drama'}, {'id': 10751, 'n...   \n",
       "45462                      [{'id': 18, 'name': 'Drama'}]   \n",
       "45463  [{'id': 28, 'name': 'Action'}, {'id': 18, 'nam...   \n",
       "45464                                                 []   \n",
       "45465                                                 []   \n",
       "\n",
       "                                   homepage      id    imdb_id  \\\n",
       "0      http://toystory.disney.com/toy-story     862  tt0114709   \n",
       "1                                       NaN    8844  tt0113497   \n",
       "2                                       NaN   15602  tt0113228   \n",
       "3                                       NaN   31357  tt0114885   \n",
       "4                                       NaN   11862  tt0113041   \n",
       "...                                     ...     ...        ...   \n",
       "45461  http://www.imdb.com/title/tt6209470/  439050  tt6209470   \n",
       "45462                                   NaN  111109  tt2028550   \n",
       "45463                                   NaN   67758  tt0303758   \n",
       "45464                                   NaN  227506  tt0008536   \n",
       "45465                                   NaN  461257  tt6980792   \n",
       "\n",
       "      original_language               original_title  \\\n",
       "0                    en                    Toy Story   \n",
       "1                    en                      Jumanji   \n",
       "2                    en             Grumpier Old Men   \n",
       "3                    en            Waiting to Exhale   \n",
       "4                    en  Father of the Bride Part II   \n",
       "...                 ...                          ...   \n",
       "45461                fa                      رگ خواب   \n",
       "45462                tl          Siglo ng Pagluluwal   \n",
       "45463                en                     Betrayal   \n",
       "45464                en          Satana likuyushchiy   \n",
       "45465                en                     Queerama   \n",
       "\n",
       "                                                overview  ... release_date  \\\n",
       "0      Led by Woody, Andy's toys live happily in his ...  ...   1995-10-30   \n",
       "1      When siblings Judy and Peter discover an encha...  ...   1995-12-15   \n",
       "2      A family wedding reignites the ancient feud be...  ...   1995-12-22   \n",
       "3      Cheated on, mistreated and stepped on, the wom...  ...   1995-12-22   \n",
       "4      Just when George Banks has recovered from his ...  ...   1995-02-10   \n",
       "...                                                  ...  ...          ...   \n",
       "45461        Rising and falling between a man and woman.  ...          NaN   \n",
       "45462  An artist struggles to finish his work while a...  ...   2011-11-17   \n",
       "45463  When one of her hits goes wrong, a professiona...  ...   2003-08-01   \n",
       "45464  In a small town live two brothers, one a minis...  ...   1917-10-21   \n",
       "45465  50 years after decriminalisation of homosexual...  ...   2017-06-09   \n",
       "\n",
       "           revenue runtime                                   spoken_languages  \\\n",
       "0      373554033.0    81.0           [{'iso_639_1': 'en', 'name': 'English'}]   \n",
       "1      262797249.0   104.0  [{'iso_639_1': 'en', 'name': 'English'}, {'iso...   \n",
       "2              0.0   101.0           [{'iso_639_1': 'en', 'name': 'English'}]   \n",
       "3       81452156.0   127.0           [{'iso_639_1': 'en', 'name': 'English'}]   \n",
       "4       76578911.0   106.0           [{'iso_639_1': 'en', 'name': 'English'}]   \n",
       "...            ...     ...                                                ...   \n",
       "45461          0.0    90.0             [{'iso_639_1': 'fa', 'name': 'فارسی'}]   \n",
       "45462          0.0   360.0                  [{'iso_639_1': 'tl', 'name': ''}]   \n",
       "45463          0.0    90.0           [{'iso_639_1': 'en', 'name': 'English'}]   \n",
       "45464          0.0    87.0                                                 []   \n",
       "45465          0.0    75.0           [{'iso_639_1': 'en', 'name': 'English'}]   \n",
       "\n",
       "         status                                            tagline  \\\n",
       "0      Released                                                NaN   \n",
       "1      Released          Roll the dice and unleash the excitement!   \n",
       "2      Released  Still Yelling. Still Fighting. Still Ready for...   \n",
       "3      Released  Friends are the people who let you be yourself...   \n",
       "4      Released  Just When His World Is Back To Normal... He's ...   \n",
       "...         ...                                                ...   \n",
       "45461  Released         Rising and falling between a man and woman   \n",
       "45462  Released                                                NaN   \n",
       "45463  Released                             A deadly game of wits.   \n",
       "45464  Released                                                NaN   \n",
       "45465  Released                                                NaN   \n",
       "\n",
       "                             title  video vote_average vote_count  \n",
       "0                        Toy Story  False          7.7     5415.0  \n",
       "1                          Jumanji  False          6.9     2413.0  \n",
       "2                 Grumpier Old Men  False          6.5       92.0  \n",
       "3                Waiting to Exhale  False          6.1       34.0  \n",
       "4      Father of the Bride Part II  False          5.7      173.0  \n",
       "...                            ...    ...          ...        ...  \n",
       "45461                       Subdue  False          4.0        1.0  \n",
       "45462          Century of Birthing  False          9.0        3.0  \n",
       "45463                     Betrayal  False          3.8        6.0  \n",
       "45464             Satan Triumphant  False          0.0        0.0  \n",
       "45465                     Queerama  False          0.0        0.0  \n",
       "\n",
       "[45466 rows x 24 columns]>"
      ]
     },
     "execution_count": 184,
     "metadata": {},
     "output_type": "execute_result"
    }
   ],
   "source": [
    "df.describe"
   ]
  },
  {
   "cell_type": "code",
   "execution_count": 185,
   "metadata": {},
   "outputs": [
    {
     "data": {
      "text/plain": [
       "adult                        0\n",
       "belongs_to_collection    40972\n",
       "budget                       0\n",
       "genres                       0\n",
       "homepage                 37684\n",
       "id                           0\n",
       "imdb_id                     17\n",
       "original_language           11\n",
       "original_title               0\n",
       "overview                   954\n",
       "popularity                   5\n",
       "poster_path                386\n",
       "production_companies         3\n",
       "production_countries         3\n",
       "release_date                87\n",
       "revenue                      6\n",
       "runtime                    263\n",
       "spoken_languages             6\n",
       "status                      87\n",
       "tagline                  25054\n",
       "title                        6\n",
       "video                        6\n",
       "vote_average                 6\n",
       "vote_count                   6\n",
       "dtype: int64"
      ]
     },
     "execution_count": 185,
     "metadata": {},
     "output_type": "execute_result"
    }
   ],
   "source": [
    "df.isnull().sum()"
   ]
  },
  {
   "cell_type": "code",
   "execution_count": 186,
   "metadata": {},
   "outputs": [
    {
     "data": {
      "text/plain": [
       "(45449, 24)"
      ]
     },
     "execution_count": 186,
     "metadata": {},
     "output_type": "execute_result"
    }
   ],
   "source": [
    "df.drop_duplicates(inplace=True) \n",
    "df.shape"
   ]
  },
  {
   "attachments": {},
   "cell_type": "markdown",
   "metadata": {},
   "source": [
    "3 columns has > 50% null ==> Removing them"
   ]
  },
  {
   "cell_type": "code",
   "execution_count": 187,
   "metadata": {},
   "outputs": [
    {
     "name": "stdout",
     "output_type": "stream",
     "text": [
      "<class 'pandas.core.frame.DataFrame'>\n",
      "Index: 45449 entries, 0 to 45465\n",
      "Data columns (total 21 columns):\n",
      " #   Column                Non-Null Count  Dtype  \n",
      "---  ------                --------------  -----  \n",
      " 0   adult                 45449 non-null  object \n",
      " 1   budget                45449 non-null  object \n",
      " 2   genres                45449 non-null  object \n",
      " 3   id                    45449 non-null  object \n",
      " 4   imdb_id               45432 non-null  object \n",
      " 5   original_language     45438 non-null  object \n",
      " 6   original_title        45449 non-null  object \n",
      " 7   overview              44495 non-null  object \n",
      " 8   popularity            45444 non-null  object \n",
      " 9   poster_path           45063 non-null  object \n",
      " 10  production_companies  45446 non-null  object \n",
      " 11  production_countries  45446 non-null  object \n",
      " 12  release_date          45362 non-null  object \n",
      " 13  revenue               45443 non-null  float64\n",
      " 14  runtime               45186 non-null  float64\n",
      " 15  spoken_languages      45443 non-null  object \n",
      " 16  status                45362 non-null  object \n",
      " 17  title                 45443 non-null  object \n",
      " 18  video                 45443 non-null  object \n",
      " 19  vote_average          45443 non-null  float64\n",
      " 20  vote_count            45443 non-null  float64\n",
      "dtypes: float64(4), object(17)\n",
      "memory usage: 7.6+ MB\n"
     ]
    }
   ],
   "source": [
    "df.drop(columns=['belongs_to_collection', 'homepage','tagline'], inplace=True)  \n",
    "df.info()"
   ]
  },
  {
   "cell_type": "code",
   "execution_count": 188,
   "metadata": {},
   "outputs": [
    {
     "data": {
      "text/plain": [
       "adult                   0.000000\n",
       "budget                  0.000000\n",
       "genres                  0.000000\n",
       "id                      0.000000\n",
       "imdb_id                 0.037405\n",
       "original_language       0.024203\n",
       "original_title          0.000000\n",
       "overview                2.099056\n",
       "popularity              0.011001\n",
       "poster_path             0.849304\n",
       "production_companies    0.006601\n",
       "production_countries    0.006601\n",
       "release_date            0.191423\n",
       "revenue                 0.013202\n",
       "runtime                 0.578671\n",
       "spoken_languages        0.013202\n",
       "status                  0.191423\n",
       "title                   0.013202\n",
       "video                   0.013202\n",
       "vote_average            0.013202\n",
       "vote_count              0.013202\n",
       "dtype: float64"
      ]
     },
     "execution_count": 188,
     "metadata": {},
     "output_type": "execute_result"
    }
   ],
   "source": [
    "df.isnull().sum()/(len(df))*100  \n",
    "# df.isnull().sum()"
   ]
  },
  {
   "attachments": {},
   "cell_type": "markdown",
   "metadata": {},
   "source": [
    "Null percentage shows better output now."
   ]
  },
  {
   "cell_type": "code",
   "execution_count": 189,
   "metadata": {},
   "outputs": [
    {
     "data": {
      "text/plain": [
       "(45449, 21)"
      ]
     },
     "execution_count": 189,
     "metadata": {},
     "output_type": "execute_result"
    }
   ],
   "source": [
    "df.drop_duplicates(inplace=True) \n",
    "df.shape"
   ]
  },
  {
   "cell_type": "code",
   "execution_count": 190,
   "metadata": {},
   "outputs": [
    {
     "data": {
      "text/plain": [
       "adult                     0\n",
       "budget                    0\n",
       "genres                    0\n",
       "id                        0\n",
       "imdb_id                  17\n",
       "original_language        11\n",
       "original_title            0\n",
       "overview                954\n",
       "popularity                5\n",
       "poster_path             386\n",
       "production_companies      3\n",
       "production_countries      3\n",
       "release_date             87\n",
       "revenue                   6\n",
       "runtime                 263\n",
       "spoken_languages          6\n",
       "status                   87\n",
       "title                     6\n",
       "video                     6\n",
       "vote_average              6\n",
       "vote_count                6\n",
       "dtype: int64"
      ]
     },
     "execution_count": 190,
     "metadata": {},
     "output_type": "execute_result"
    }
   ],
   "source": [
    "df.isnull().sum()"
   ]
  },
  {
   "cell_type": "code",
   "execution_count": 191,
   "metadata": {},
   "outputs": [
    {
     "data": {
      "text/plain": [
       "(44031, 21)"
      ]
     },
     "execution_count": 191,
     "metadata": {},
     "output_type": "execute_result"
    }
   ],
   "source": [
    "df.dropna(subset=['imdb_id', 'original_language', 'overview', 'popularity', 'poster_path', 'production_companies', 'production_countries',\n",
    "                     'release_date', 'revenue', 'runtime', 'spoken_languages', 'status', 'title', 'video', 'vote_average',\n",
    "                     'vote_count'], axis=0, inplace=True)\n",
    "df.shape"
   ]
  },
  {
   "cell_type": "code",
   "execution_count": 192,
   "metadata": {},
   "outputs": [],
   "source": [
    "df['budget'] = pd.to_numeric(df['budget'], errors='coerce')  \n",
    "df['popularity'] = pd.to_numeric(df['popularity'], errors='coerce')\n",
    "df['release_date'] = pd.to_datetime(df['release_date'], errors='coerce')"
   ]
  },
  {
   "cell_type": "code",
   "execution_count": 193,
   "metadata": {},
   "outputs": [
    {
     "data": {
      "text/plain": [
       "adult                   0.0\n",
       "budget                  0.0\n",
       "genres                  0.0\n",
       "id                      0.0\n",
       "imdb_id                 0.0\n",
       "original_language       0.0\n",
       "original_title          0.0\n",
       "overview                0.0\n",
       "popularity              0.0\n",
       "poster_path             0.0\n",
       "production_companies    0.0\n",
       "production_countries    0.0\n",
       "release_date            0.0\n",
       "revenue                 0.0\n",
       "runtime                 0.0\n",
       "spoken_languages        0.0\n",
       "status                  0.0\n",
       "title                   0.0\n",
       "video                   0.0\n",
       "vote_average            0.0\n",
       "vote_count              0.0\n",
       "dtype: float64"
      ]
     },
     "execution_count": 193,
     "metadata": {},
     "output_type": "execute_result"
    }
   ],
   "source": [
    "df.isnull().sum()/(len(df))*100  "
   ]
  },
  {
   "cell_type": "code",
   "execution_count": 194,
   "metadata": {},
   "outputs": [
    {
     "data": {
      "text/html": [
       "<div>\n",
       "<style scoped>\n",
       "    .dataframe tbody tr th:only-of-type {\n",
       "        vertical-align: middle;\n",
       "    }\n",
       "\n",
       "    .dataframe tbody tr th {\n",
       "        vertical-align: top;\n",
       "    }\n",
       "\n",
       "    .dataframe thead th {\n",
       "        text-align: right;\n",
       "    }\n",
       "</style>\n",
       "<table border=\"1\" class=\"dataframe\">\n",
       "  <thead>\n",
       "    <tr style=\"text-align: right;\">\n",
       "      <th></th>\n",
       "      <th>budget</th>\n",
       "      <th>popularity</th>\n",
       "      <th>release_date</th>\n",
       "      <th>revenue</th>\n",
       "      <th>runtime</th>\n",
       "      <th>vote_average</th>\n",
       "      <th>vote_count</th>\n",
       "    </tr>\n",
       "  </thead>\n",
       "  <tbody>\n",
       "    <tr>\n",
       "      <th>count</th>\n",
       "      <td>4.403100e+04</td>\n",
       "      <td>44031.000000</td>\n",
       "      <td>44031</td>\n",
       "      <td>4.403100e+04</td>\n",
       "      <td>44031.000000</td>\n",
       "      <td>44031.000000</td>\n",
       "      <td>44031.000000</td>\n",
       "    </tr>\n",
       "    <tr>\n",
       "      <th>mean</th>\n",
       "      <td>4.357440e+06</td>\n",
       "      <td>3.001336</td>\n",
       "      <td>1992-04-16 06:11:15.505893632</td>\n",
       "      <td>1.157125e+07</td>\n",
       "      <td>95.378415</td>\n",
       "      <td>5.673837</td>\n",
       "      <td>113.240285</td>\n",
       "    </tr>\n",
       "    <tr>\n",
       "      <th>min</th>\n",
       "      <td>0.000000e+00</td>\n",
       "      <td>0.000000</td>\n",
       "      <td>1874-12-09 00:00:00</td>\n",
       "      <td>0.000000e+00</td>\n",
       "      <td>0.000000</td>\n",
       "      <td>0.000000</td>\n",
       "      <td>0.000000</td>\n",
       "    </tr>\n",
       "    <tr>\n",
       "      <th>25%</th>\n",
       "      <td>0.000000e+00</td>\n",
       "      <td>0.417845</td>\n",
       "      <td>1978-06-25 00:00:00</td>\n",
       "      <td>0.000000e+00</td>\n",
       "      <td>86.000000</td>\n",
       "      <td>5.000000</td>\n",
       "      <td>3.000000</td>\n",
       "    </tr>\n",
       "    <tr>\n",
       "      <th>50%</th>\n",
       "      <td>0.000000e+00</td>\n",
       "      <td>1.179703</td>\n",
       "      <td>2001-08-10 00:00:00</td>\n",
       "      <td>0.000000e+00</td>\n",
       "      <td>95.000000</td>\n",
       "      <td>6.000000</td>\n",
       "      <td>10.000000</td>\n",
       "    </tr>\n",
       "    <tr>\n",
       "      <th>75%</th>\n",
       "      <td>0.000000e+00</td>\n",
       "      <td>3.868053</td>\n",
       "      <td>2010-12-17 00:00:00</td>\n",
       "      <td>0.000000e+00</td>\n",
       "      <td>107.000000</td>\n",
       "      <td>6.800000</td>\n",
       "      <td>36.000000</td>\n",
       "    </tr>\n",
       "    <tr>\n",
       "      <th>max</th>\n",
       "      <td>3.800000e+08</td>\n",
       "      <td>547.488298</td>\n",
       "      <td>2020-12-16 00:00:00</td>\n",
       "      <td>2.787965e+09</td>\n",
       "      <td>1256.000000</td>\n",
       "      <td>10.000000</td>\n",
       "      <td>14075.000000</td>\n",
       "    </tr>\n",
       "    <tr>\n",
       "      <th>std</th>\n",
       "      <td>1.768783e+07</td>\n",
       "      <td>6.083088</td>\n",
       "      <td>NaN</td>\n",
       "      <td>6.533586e+07</td>\n",
       "      <td>37.217013</td>\n",
       "      <td>1.846840</td>\n",
       "      <td>498.848134</td>\n",
       "    </tr>\n",
       "  </tbody>\n",
       "</table>\n",
       "</div>"
      ],
      "text/plain": [
       "             budget    popularity                   release_date  \\\n",
       "count  4.403100e+04  44031.000000                          44031   \n",
       "mean   4.357440e+06      3.001336  1992-04-16 06:11:15.505893632   \n",
       "min    0.000000e+00      0.000000            1874-12-09 00:00:00   \n",
       "25%    0.000000e+00      0.417845            1978-06-25 00:00:00   \n",
       "50%    0.000000e+00      1.179703            2001-08-10 00:00:00   \n",
       "75%    0.000000e+00      3.868053            2010-12-17 00:00:00   \n",
       "max    3.800000e+08    547.488298            2020-12-16 00:00:00   \n",
       "std    1.768783e+07      6.083088                            NaN   \n",
       "\n",
       "            revenue       runtime  vote_average    vote_count  \n",
       "count  4.403100e+04  44031.000000  44031.000000  44031.000000  \n",
       "mean   1.157125e+07     95.378415      5.673837    113.240285  \n",
       "min    0.000000e+00      0.000000      0.000000      0.000000  \n",
       "25%    0.000000e+00     86.000000      5.000000      3.000000  \n",
       "50%    0.000000e+00     95.000000      6.000000     10.000000  \n",
       "75%    0.000000e+00    107.000000      6.800000     36.000000  \n",
       "max    2.787965e+09   1256.000000     10.000000  14075.000000  \n",
       "std    6.533586e+07     37.217013      1.846840    498.848134  "
      ]
     },
     "execution_count": 194,
     "metadata": {},
     "output_type": "execute_result"
    }
   ],
   "source": [
    "df.describe()"
   ]
  },
  {
   "attachments": {},
   "cell_type": "markdown",
   "metadata": {},
   "source": [
    "**BUDGET**  \n",
    "min = 0, means low budget movies/ data entry error  \n",
    "  \n",
    "**POPULARITY**  \n",
    "min = 0, Less popular/ data entry error  \n",
    "\n",
    "**RELEASE DATE**  \n",
    "1874-12-09 to 2020-12-16 \n",
    "\n",
    "**RUNTIME**  \n",
    "min = 0, Data entry error probably  \n",
    "max = 1256 min, Likely a data entry error as its too long!  "
   ]
  },
  {
   "cell_type": "code",
   "execution_count": 195,
   "metadata": {},
   "outputs": [
    {
     "data": {
      "text/html": [
       "<div>\n",
       "<style scoped>\n",
       "    .dataframe tbody tr th:only-of-type {\n",
       "        vertical-align: middle;\n",
       "    }\n",
       "\n",
       "    .dataframe tbody tr th {\n",
       "        vertical-align: top;\n",
       "    }\n",
       "\n",
       "    .dataframe thead th {\n",
       "        text-align: right;\n",
       "    }\n",
       "</style>\n",
       "<table border=\"1\" class=\"dataframe\">\n",
       "  <thead>\n",
       "    <tr style=\"text-align: right;\">\n",
       "      <th></th>\n",
       "      <th>adult</th>\n",
       "      <th>genres</th>\n",
       "      <th>id</th>\n",
       "      <th>imdb_id</th>\n",
       "      <th>original_language</th>\n",
       "      <th>original_title</th>\n",
       "      <th>overview</th>\n",
       "      <th>poster_path</th>\n",
       "      <th>production_companies</th>\n",
       "      <th>production_countries</th>\n",
       "      <th>spoken_languages</th>\n",
       "      <th>status</th>\n",
       "      <th>title</th>\n",
       "      <th>video</th>\n",
       "    </tr>\n",
       "  </thead>\n",
       "  <tbody>\n",
       "    <tr>\n",
       "      <th>count</th>\n",
       "      <td>44031</td>\n",
       "      <td>44031</td>\n",
       "      <td>44031</td>\n",
       "      <td>44031</td>\n",
       "      <td>44031</td>\n",
       "      <td>44031</td>\n",
       "      <td>44031</td>\n",
       "      <td>44031</td>\n",
       "      <td>44031</td>\n",
       "      <td>44031</td>\n",
       "      <td>44031</td>\n",
       "      <td>44031</td>\n",
       "      <td>44031</td>\n",
       "      <td>44031</td>\n",
       "    </tr>\n",
       "    <tr>\n",
       "      <th>unique</th>\n",
       "      <td>2</td>\n",
       "      <td>4038</td>\n",
       "      <td>44018</td>\n",
       "      <td>44018</td>\n",
       "      <td>89</td>\n",
       "      <td>42004</td>\n",
       "      <td>43852</td>\n",
       "      <td>43993</td>\n",
       "      <td>22374</td>\n",
       "      <td>2360</td>\n",
       "      <td>1921</td>\n",
       "      <td>6</td>\n",
       "      <td>40942</td>\n",
       "      <td>2</td>\n",
       "    </tr>\n",
       "    <tr>\n",
       "      <th>top</th>\n",
       "      <td>False</td>\n",
       "      <td>[{'id': 18, 'name': 'Drama'}]</td>\n",
       "      <td>10991</td>\n",
       "      <td>tt0235679</td>\n",
       "      <td>en</td>\n",
       "      <td>Alice in Wonderland</td>\n",
       "      <td>No overview found.</td>\n",
       "      <td>/2kslZXOaW0HmnGuVPCnQlCdXFR9.jpg</td>\n",
       "      <td>[]</td>\n",
       "      <td>[{'iso_3166_1': 'US', 'name': 'United States o...</td>\n",
       "      <td>[{'iso_639_1': 'en', 'name': 'English'}]</td>\n",
       "      <td>Released</td>\n",
       "      <td>Cinderella</td>\n",
       "      <td>False</td>\n",
       "    </tr>\n",
       "    <tr>\n",
       "      <th>freq</th>\n",
       "      <td>44023</td>\n",
       "      <td>4884</td>\n",
       "      <td>2</td>\n",
       "      <td>2</td>\n",
       "      <td>31781</td>\n",
       "      <td>8</td>\n",
       "      <td>132</td>\n",
       "      <td>4</td>\n",
       "      <td>10944</td>\n",
       "      <td>17724</td>\n",
       "      <td>22213</td>\n",
       "      <td>43693</td>\n",
       "      <td>11</td>\n",
       "      <td>43948</td>\n",
       "    </tr>\n",
       "  </tbody>\n",
       "</table>\n",
       "</div>"
      ],
      "text/plain": [
       "        adult                         genres     id    imdb_id  \\\n",
       "count   44031                          44031  44031      44031   \n",
       "unique      2                           4038  44018      44018   \n",
       "top     False  [{'id': 18, 'name': 'Drama'}]  10991  tt0235679   \n",
       "freq    44023                           4884      2          2   \n",
       "\n",
       "       original_language       original_title            overview  \\\n",
       "count              44031                44031               44031   \n",
       "unique                89                42004               43852   \n",
       "top                   en  Alice in Wonderland  No overview found.   \n",
       "freq               31781                    8                 132   \n",
       "\n",
       "                             poster_path production_companies  \\\n",
       "count                              44031                44031   \n",
       "unique                             43993                22374   \n",
       "top     /2kslZXOaW0HmnGuVPCnQlCdXFR9.jpg                   []   \n",
       "freq                                   4                10944   \n",
       "\n",
       "                                     production_countries  \\\n",
       "count                                               44031   \n",
       "unique                                               2360   \n",
       "top     [{'iso_3166_1': 'US', 'name': 'United States o...   \n",
       "freq                                                17724   \n",
       "\n",
       "                                spoken_languages    status       title  video  \n",
       "count                                      44031     44031       44031  44031  \n",
       "unique                                      1921         6       40942      2  \n",
       "top     [{'iso_639_1': 'en', 'name': 'English'}]  Released  Cinderella  False  \n",
       "freq                                       22213     43693          11  43948  "
      ]
     },
     "execution_count": 195,
     "metadata": {},
     "output_type": "execute_result"
    }
   ],
   "source": [
    "df.describe(include='object')"
   ]
  },
  {
   "attachments": {},
   "cell_type": "markdown",
   "metadata": {},
   "source": [
    "REMARKS:  \n",
    "\n",
    "**GENRES**  \n",
    "frequency -4884 Drama movies in total  \n",
    "\n",
    "**ORIGINAL LANGUAGE**  \n",
    "31781 en movies available of 89 languages   \n",
    "\n",
    "**ORIGINAL TITLE**  \n",
    "frequency - 8 Movies from Alice in Wonderland   \n",
    "\n",
    "**OVERVIEW**  \n",
    "No overview in 133 movies  \n",
    "\n",
    "**POSTER PATH**  \n",
    "4 movies with the same poster available  \n",
    "\n",
    "**STATUS**  \n",
    "6 unique values other than RELEASED / RUMOURED  "
   ]
  },
  {
   "cell_type": "code",
   "execution_count": 196,
   "metadata": {},
   "outputs": [
    {
     "data": {
      "text/plain": [
       "adult                       2\n",
       "budget                   1203\n",
       "genres                   4038\n",
       "id                      44018\n",
       "imdb_id                 44018\n",
       "original_language          89\n",
       "original_title          42004\n",
       "overview                43852\n",
       "popularity              42680\n",
       "poster_path             43993\n",
       "production_companies    22374\n",
       "production_countries     2360\n",
       "release_date            17110\n",
       "revenue                  6844\n",
       "runtime                   353\n",
       "spoken_languages         1921\n",
       "status                      6\n",
       "title                   40942\n",
       "video                       2\n",
       "vote_average               92\n",
       "vote_count               1820\n",
       "dtype: int64"
      ]
     },
     "execution_count": 196,
     "metadata": {},
     "output_type": "execute_result"
    }
   ],
   "source": [
    "df.nunique()"
   ]
  },
  {
   "cell_type": "code",
   "execution_count": 197,
   "metadata": {},
   "outputs": [
    {
     "data": {
      "text/plain": [
       "(44031, 21)"
      ]
     },
     "execution_count": 197,
     "metadata": {},
     "output_type": "execute_result"
    }
   ],
   "source": [
    "df.shape"
   ]
  },
  {
   "attachments": {},
   "cell_type": "markdown",
   "metadata": {},
   "source": [
    "Checking for values in STATUS column "
   ]
  },
  {
   "cell_type": "code",
   "execution_count": 198,
   "metadata": {},
   "outputs": [
    {
     "name": "stdout",
     "output_type": "stream",
     "text": [
      "['Released' 'Rumored' 'Post Production' 'In Production' 'Planned'\n",
      " 'Canceled']\n"
     ]
    }
   ],
   "source": [
    "print(df['status'].unique())"
   ]
  },
  {
   "attachments": {},
   "cell_type": "markdown",
   "metadata": {},
   "source": [
    "Only movies as \"Released\" are kept"
   ]
  },
  {
   "cell_type": "code",
   "execution_count": 199,
   "metadata": {},
   "outputs": [
    {
     "data": {
      "text/plain": [
       "(43693, 21)"
      ]
     },
     "execution_count": 199,
     "metadata": {},
     "output_type": "execute_result"
    }
   ],
   "source": [
    "df = df[df['status'] == 'Released']\n",
    "df.shape"
   ]
  },
  {
   "attachments": {},
   "cell_type": "markdown",
   "metadata": {},
   "source": [
    "Minimum value of BUDGET is shown as 0, Removing these"
   ]
  },
  {
   "cell_type": "code",
   "execution_count": 200,
   "metadata": {},
   "outputs": [
    {
     "ename": "NameError",
     "evalue": "name 'DataFrame' is not defined",
     "output_type": "error",
     "traceback": [
      "\u001b[1;31m---------------------------------------------------------------------------\u001b[0m",
      "\u001b[1;31mNameError\u001b[0m                                 Traceback (most recent call last)",
      "Cell \u001b[1;32mIn[200], line 2\u001b[0m\n\u001b[0;32m      1\u001b[0m \u001b[39m# pos_budget = df[df['budget'] > 0]   \u001b[39;00m\n\u001b[1;32m----> 2\u001b[0m pos_budget: DataFrame \u001b[39m=\u001b[39m df[df[\u001b[39m'\u001b[39m\u001b[39mbudget\u001b[39m\u001b[39m'\u001b[39m] \u001b[39m==\u001b[39m \u001b[39m0\u001b[39m]   \n\u001b[0;32m      3\u001b[0m pos_budget       \n",
      "\u001b[1;31mNameError\u001b[0m: name 'DataFrame' is not defined"
     ]
    }
   ],
   "source": [
    "# pos_budget = df[df['budget'] > 0]   \n",
    "pos_budget: DataFrame = df[df['budget'] == 0]   \n",
    "pos_budget       "
   ]
  },
  {
   "attachments": {},
   "cell_type": "markdown",
   "metadata": {},
   "source": [
    "Update on date using cutoff\n"
   ]
  },
  {
   "cell_type": "code",
   "execution_count": null,
   "metadata": {},
   "outputs": [
    {
     "data": {
      "text/plain": [
       "0       1995-10-30\n",
       "1       1995-12-15\n",
       "2       1995-12-22\n",
       "3       1995-12-22\n",
       "4       1995-02-10\n",
       "           ...    \n",
       "45460   1991-05-13\n",
       "45462   2011-11-17\n",
       "45463   2003-08-01\n",
       "45464   1917-10-21\n",
       "45465   2017-06-09\n",
       "Name: release_date, Length: 43693, dtype: datetime64[ns]"
      ]
     },
     "execution_count": 137,
     "metadata": {},
     "output_type": "execute_result"
    }
   ],
   "source": [
    "cutoff_date = pd.Timestamp('1900-01-01')    \n",
    "df[df['release_date'] >= cutoff_date] \n",
    "df['release_date']"
   ]
  },
  {
   "cell_type": "code",
   "execution_count": null,
   "metadata": {},
   "outputs": [
    {
     "name": "stdout",
     "output_type": "stream",
     "text": [
      "<class 'pandas.core.frame.DataFrame'>\n",
      "Index: 43693 entries, 0 to 45465\n",
      "Data columns (total 21 columns):\n",
      " #   Column                Non-Null Count  Dtype         \n",
      "---  ------                --------------  -----         \n",
      " 0   adult                 43693 non-null  object        \n",
      " 1   budget                43693 non-null  int64         \n",
      " 2   genres                43693 non-null  object        \n",
      " 3   id                    43693 non-null  object        \n",
      " 4   imdb_id               43693 non-null  object        \n",
      " 5   original_language     43693 non-null  object        \n",
      " 6   original_title        43693 non-null  object        \n",
      " 7   overview              43693 non-null  object        \n",
      " 8   popularity            43693 non-null  float64       \n",
      " 9   poster_path           43693 non-null  object        \n",
      " 10  production_companies  43693 non-null  object        \n",
      " 11  production_countries  43693 non-null  object        \n",
      " 12  release_date          43693 non-null  datetime64[ns]\n",
      " 13  revenue               43693 non-null  float64       \n",
      " 14  runtime               43693 non-null  float64       \n",
      " 15  spoken_languages      43693 non-null  object        \n",
      " 16  status                43693 non-null  object        \n",
      " 17  title                 43693 non-null  object        \n",
      " 18  video                 43693 non-null  object        \n",
      " 19  vote_average          43693 non-null  float64       \n",
      " 20  vote_count            43693 non-null  float64       \n",
      "dtypes: datetime64[ns](1), float64(5), int64(1), object(14)\n",
      "memory usage: 7.3+ MB\n"
     ]
    }
   ],
   "source": [
    "df.info()"
   ]
  },
  {
   "cell_type": "code",
   "execution_count": null,
   "metadata": {},
   "outputs": [
    {
     "data": {
      "text/plain": [
       "adult                       2\n",
       "budget                   1200\n",
       "genres                   4021\n",
       "id                      43680\n",
       "imdb_id                 43680\n",
       "original_language          89\n",
       "original_title          41690\n",
       "overview                43518\n",
       "popularity              42364\n",
       "poster_path             43655\n",
       "production_companies    22252\n",
       "production_countries     2350\n",
       "release_date            17058\n",
       "revenue                  6833\n",
       "runtime                   353\n",
       "spoken_languages         1909\n",
       "status                      1\n",
       "title                   40646\n",
       "video                       2\n",
       "vote_average               92\n",
       "vote_count               1820\n",
       "dtype: int64"
      ]
     },
     "execution_count": 140,
     "metadata": {},
     "output_type": "execute_result"
    }
   ],
   "source": [
    "df.nunique()"
   ]
  },
  {
   "cell_type": "code",
   "execution_count": null,
   "metadata": {},
   "outputs": [
    {
     "name": "stdout",
     "output_type": "stream",
     "text": [
      "Column: adult\n",
      "  - Percentage of 0s: 0.00%\n",
      "Column: budget\n",
      "  - Percentage of 0s: 79.83%\n",
      "Column: genres\n",
      "  - Percentage of 0s: 0.00%\n",
      "Column: id\n",
      "  - Percentage of 0s: 0.00%\n",
      "Column: imdb_id\n",
      "  - Percentage of 0s: 0.00%\n",
      "Column: original_language\n",
      "  - Percentage of 0s: 0.00%\n",
      "Column: original_title\n",
      "  - Percentage of 0s: 0.00%\n",
      "Column: overview\n",
      "  - Percentage of 0s: 0.00%\n",
      "Column: popularity\n",
      "  - Percentage of 0s: 0.06%\n",
      "Column: poster_path\n",
      "  - Percentage of 0s: 0.00%\n",
      "Column: production_companies\n",
      "  - Percentage of 0s: 0.00%\n",
      "Column: production_countries\n",
      "  - Percentage of 0s: 0.00%\n",
      "Column: release_date\n",
      "  - Percentage of 0s: 0.00%\n",
      "Column: revenue\n",
      "  - Percentage of 0s: 83.13%\n",
      "Column: runtime\n",
      "  - Percentage of 0s: 2.33%\n",
      "Column: spoken_languages\n",
      "  - Percentage of 0s: 0.00%\n",
      "Column: status\n",
      "  - Percentage of 0s: 0.00%\n",
      "Column: title\n",
      "  - Percentage of 0s: 0.00%\n",
      "Column: video\n",
      "  - Percentage of 0s: 99.81%\n",
      "Column: vote_average\n",
      "  - Percentage of 0s: 5.66%\n",
      "Column: vote_count\n",
      "  - Percentage of 0s: 5.46%\n"
     ]
    }
   ],
   "source": [
    "for x in df.columns:\n",
    "    zeros_count = (df[x] == 0).sum()\n",
    "    zero_percentage = (zeros_count / len(df)) * 100\n",
    "    print(f\"Column: {x}\")\n",
    "    print(f\"  - Percentage of 0s: {zero_percentage:.2f}%\")\n"
   ]
  },
  {
   "attachments": {},
   "cell_type": "markdown",
   "metadata": {},
   "source": [
    "Number of Budget and Revenue values is pretty low. Checking that gives:"
   ]
  },
  {
   "cell_type": "code",
   "execution_count": null,
   "metadata": {},
   "outputs": [
    {
     "name": "stdout",
     "output_type": "stream",
     "text": [
      "34882\n",
      "36323\n"
     ]
    }
   ],
   "source": [
    "budget_zeros = (df['budget'] == 0).sum()\n",
    "revenue_zeros = (df['revenue'] == 0).sum()\n",
    "\n",
    "print(budget_zeros)\n",
    "print(revenue_zeros)"
   ]
  },
  {
   "cell_type": "code",
   "execution_count": null,
   "metadata": {},
   "outputs": [
    {
     "name": "stdout",
     "output_type": "stream",
     "text": [
      "32878\n"
     ]
    }
   ],
   "source": [
    "combined_zeros = ((df['budget'] == 0) & (df['revenue'] == 0)).sum()\n",
    "print(combined_zeros)\n"
   ]
  },
  {
   "attachments": {},
   "cell_type": "markdown",
   "metadata": {},
   "source": [
    "Means works on Budget and Revenue will be hard to do."
   ]
  },
  {
   "cell_type": "code",
   "execution_count": 219,
   "metadata": {},
   "outputs": [
    {
     "data": {
      "text/plain": [
       "(43693, 21)"
      ]
     },
     "execution_count": 219,
     "metadata": {},
     "output_type": "execute_result"
    }
   ],
   "source": [
    "df.shape"
   ]
  },
  {
   "attachments": {},
   "cell_type": "markdown",
   "metadata": {},
   "source": [
    "CLEANSING OF DATA IS CONSIDERED TO BE DONE HERE :)"
   ]
  },
  {
   "attachments": {},
   "cell_type": "markdown",
   "metadata": {},
   "source": [
    "EXPLORATORY DATA ANALYSIS"
   ]
  },
  {
   "attachments": {},
   "cell_type": "markdown",
   "metadata": {},
   "source": [
    "CORRELATION of numerical columns"
   ]
  },
  {
   "cell_type": "code",
   "execution_count": 220,
   "metadata": {},
   "outputs": [
    {
     "data": {
      "text/html": [
       "<div>\n",
       "<style scoped>\n",
       "    .dataframe tbody tr th:only-of-type {\n",
       "        vertical-align: middle;\n",
       "    }\n",
       "\n",
       "    .dataframe tbody tr th {\n",
       "        vertical-align: top;\n",
       "    }\n",
       "\n",
       "    .dataframe thead th {\n",
       "        text-align: right;\n",
       "    }\n",
       "</style>\n",
       "<table border=\"1\" class=\"dataframe\">\n",
       "  <thead>\n",
       "    <tr style=\"text-align: right;\">\n",
       "      <th></th>\n",
       "      <th>budget</th>\n",
       "      <th>revenue</th>\n",
       "      <th>popularity</th>\n",
       "      <th>runtime</th>\n",
       "    </tr>\n",
       "  </thead>\n",
       "  <tbody>\n",
       "    <tr>\n",
       "      <th>budget</th>\n",
       "      <td>1.000000</td>\n",
       "      <td>0.768529</td>\n",
       "      <td>0.448691</td>\n",
       "      <td>0.133022</td>\n",
       "    </tr>\n",
       "    <tr>\n",
       "      <th>revenue</th>\n",
       "      <td>0.768529</td>\n",
       "      <td>1.000000</td>\n",
       "      <td>0.506248</td>\n",
       "      <td>0.102826</td>\n",
       "    </tr>\n",
       "    <tr>\n",
       "      <th>popularity</th>\n",
       "      <td>0.448691</td>\n",
       "      <td>0.506248</td>\n",
       "      <td>1.000000</td>\n",
       "      <td>0.123099</td>\n",
       "    </tr>\n",
       "    <tr>\n",
       "      <th>runtime</th>\n",
       "      <td>0.133022</td>\n",
       "      <td>0.102826</td>\n",
       "      <td>0.123099</td>\n",
       "      <td>1.000000</td>\n",
       "    </tr>\n",
       "  </tbody>\n",
       "</table>\n",
       "</div>"
      ],
      "text/plain": [
       "              budget   revenue  popularity   runtime\n",
       "budget      1.000000  0.768529    0.448691  0.133022\n",
       "revenue     0.768529  1.000000    0.506248  0.102826\n",
       "popularity  0.448691  0.506248    1.000000  0.123099\n",
       "runtime     0.133022  0.102826    0.123099  1.000000"
      ]
     },
     "execution_count": 220,
     "metadata": {},
     "output_type": "execute_result"
    }
   ],
   "source": [
    "df[['budget', 'revenue', 'popularity', 'runtime']].corr()"
   ]
  },
  {
   "attachments": {},
   "cell_type": "markdown",
   "metadata": {},
   "source": [
    "BUDGET and REVENUE highly correlated => Means Higher-budget movies generates more revenue  \n",
    "BUDGET and REVENUE are moderately correlated with POPULARITY => Big-budgets can increase popularity, though many other factors also influence it.  \n",
    "BUDGET is only weakly correlated with RUNTIME => Budget of a movie doesnt affect its runtime.  \n",
    "RUNTIME is weakly correlated with BUDGET, REVENUE and POPULARITY"
   ]
  },
  {
   "attachments": {},
   "cell_type": "markdown",
   "metadata": {},
   "source": [
    "COVARIANCE of numerical columns"
   ]
  },
  {
   "cell_type": "code",
   "execution_count": 221,
   "metadata": {},
   "outputs": [
    {
     "data": {
      "text/html": [
       "<div>\n",
       "<style scoped>\n",
       "    .dataframe tbody tr th:only-of-type {\n",
       "        vertical-align: middle;\n",
       "    }\n",
       "\n",
       "    .dataframe tbody tr th {\n",
       "        vertical-align: top;\n",
       "    }\n",
       "\n",
       "    .dataframe thead th {\n",
       "        text-align: right;\n",
       "    }\n",
       "</style>\n",
       "<table border=\"1\" class=\"dataframe\">\n",
       "  <thead>\n",
       "    <tr style=\"text-align: right;\">\n",
       "      <th></th>\n",
       "      <th>budget</th>\n",
       "      <th>revenue</th>\n",
       "      <th>popularity</th>\n",
       "      <th>runtime</th>\n",
       "    </tr>\n",
       "  </thead>\n",
       "  <tbody>\n",
       "    <tr>\n",
       "      <th>budget</th>\n",
       "      <td>3.151313e+14</td>\n",
       "      <td>8.947029e+14</td>\n",
       "      <td>4.855595e+07</td>\n",
       "      <td>8.788806e+07</td>\n",
       "    </tr>\n",
       "    <tr>\n",
       "      <th>revenue</th>\n",
       "      <td>8.947029e+14</td>\n",
       "      <td>4.300764e+15</td>\n",
       "      <td>2.023882e+08</td>\n",
       "      <td>2.509778e+08</td>\n",
       "    </tr>\n",
       "    <tr>\n",
       "      <th>popularity</th>\n",
       "      <td>4.855595e+07</td>\n",
       "      <td>2.023882e+08</td>\n",
       "      <td>3.716197e+01</td>\n",
       "      <td>2.792962e+01</td>\n",
       "    </tr>\n",
       "    <tr>\n",
       "      <th>runtime</th>\n",
       "      <td>8.788806e+07</td>\n",
       "      <td>2.509778e+08</td>\n",
       "      <td>2.792962e+01</td>\n",
       "      <td>1.385234e+03</td>\n",
       "    </tr>\n",
       "  </tbody>\n",
       "</table>\n",
       "</div>"
      ],
      "text/plain": [
       "                  budget       revenue    popularity       runtime\n",
       "budget      3.151313e+14  8.947029e+14  4.855595e+07  8.788806e+07\n",
       "revenue     8.947029e+14  4.300764e+15  2.023882e+08  2.509778e+08\n",
       "popularity  4.855595e+07  2.023882e+08  3.716197e+01  2.792962e+01\n",
       "runtime     8.788806e+07  2.509778e+08  2.792962e+01  1.385234e+03"
      ]
     },
     "execution_count": 221,
     "metadata": {},
     "output_type": "execute_result"
    }
   ],
   "source": [
    "df[['budget', 'revenue', 'popularity', 'runtime']].cov()"
   ]
  },
  {
   "attachments": {},
   "cell_type": "markdown",
   "metadata": {},
   "source": [
    "Here all the variables are seems to be in postive Covariance as expected with each other."
   ]
  },
  {
   "cell_type": "code",
   "execution_count": 227,
   "metadata": {},
   "outputs": [
    {
     "data": {
      "text/html": [
       "<div>\n",
       "<style scoped>\n",
       "    .dataframe tbody tr th:only-of-type {\n",
       "        vertical-align: middle;\n",
       "    }\n",
       "\n",
       "    .dataframe tbody tr th {\n",
       "        vertical-align: top;\n",
       "    }\n",
       "\n",
       "    .dataframe thead th {\n",
       "        text-align: right;\n",
       "    }\n",
       "</style>\n",
       "<table border=\"1\" class=\"dataframe\">\n",
       "  <thead>\n",
       "    <tr style=\"text-align: right;\">\n",
       "      <th></th>\n",
       "      <th>budget</th>\n",
       "      <th>revenue</th>\n",
       "      <th>popularity</th>\n",
       "      <th>runtime</th>\n",
       "    </tr>\n",
       "  </thead>\n",
       "  <tbody>\n",
       "    <tr>\n",
       "      <th>count</th>\n",
       "      <td>4.369300e+04</td>\n",
       "      <td>4.369300e+04</td>\n",
       "      <td>43693.000000</td>\n",
       "      <td>43693.000000</td>\n",
       "    </tr>\n",
       "    <tr>\n",
       "      <th>mean</th>\n",
       "      <td>4.389674e+06</td>\n",
       "      <td>1.165921e+07</td>\n",
       "      <td>3.013819</td>\n",
       "      <td>95.455451</td>\n",
       "    </tr>\n",
       "    <tr>\n",
       "      <th>std</th>\n",
       "      <td>1.775194e+07</td>\n",
       "      <td>6.558021e+07</td>\n",
       "      <td>6.096062</td>\n",
       "      <td>37.218734</td>\n",
       "    </tr>\n",
       "    <tr>\n",
       "      <th>min</th>\n",
       "      <td>0.000000e+00</td>\n",
       "      <td>0.000000e+00</td>\n",
       "      <td>0.000000</td>\n",
       "      <td>0.000000</td>\n",
       "    </tr>\n",
       "    <tr>\n",
       "      <th>25%</th>\n",
       "      <td>0.000000e+00</td>\n",
       "      <td>0.000000e+00</td>\n",
       "      <td>0.420116</td>\n",
       "      <td>86.000000</td>\n",
       "    </tr>\n",
       "    <tr>\n",
       "      <th>50%</th>\n",
       "      <td>0.000000e+00</td>\n",
       "      <td>0.000000e+00</td>\n",
       "      <td>1.187456</td>\n",
       "      <td>95.000000</td>\n",
       "    </tr>\n",
       "    <tr>\n",
       "      <th>75%</th>\n",
       "      <td>0.000000e+00</td>\n",
       "      <td>0.000000e+00</td>\n",
       "      <td>3.902162</td>\n",
       "      <td>107.000000</td>\n",
       "    </tr>\n",
       "    <tr>\n",
       "      <th>max</th>\n",
       "      <td>3.800000e+08</td>\n",
       "      <td>2.787965e+09</td>\n",
       "      <td>547.488298</td>\n",
       "      <td>1256.000000</td>\n",
       "    </tr>\n",
       "  </tbody>\n",
       "</table>\n",
       "</div>"
      ],
      "text/plain": [
       "             budget       revenue    popularity       runtime\n",
       "count  4.369300e+04  4.369300e+04  43693.000000  43693.000000\n",
       "mean   4.389674e+06  1.165921e+07      3.013819     95.455451\n",
       "std    1.775194e+07  6.558021e+07      6.096062     37.218734\n",
       "min    0.000000e+00  0.000000e+00      0.000000      0.000000\n",
       "25%    0.000000e+00  0.000000e+00      0.420116     86.000000\n",
       "50%    0.000000e+00  0.000000e+00      1.187456     95.000000\n",
       "75%    0.000000e+00  0.000000e+00      3.902162    107.000000\n",
       "max    3.800000e+08  2.787965e+09    547.488298   1256.000000"
      ]
     },
     "execution_count": 227,
     "metadata": {},
     "output_type": "execute_result"
    }
   ],
   "source": [
    "df[['budget', 'revenue', 'popularity', 'runtime']].describe()"
   ]
  },
  {
   "cell_type": "code",
   "execution_count": 229,
   "metadata": {},
   "outputs": [
    {
     "data": {
      "text/html": [
       "<div>\n",
       "<style scoped>\n",
       "    .dataframe tbody tr th:only-of-type {\n",
       "        vertical-align: middle;\n",
       "    }\n",
       "\n",
       "    .dataframe tbody tr th {\n",
       "        vertical-align: top;\n",
       "    }\n",
       "\n",
       "    .dataframe thead th {\n",
       "        text-align: right;\n",
       "    }\n",
       "</style>\n",
       "<table border=\"1\" class=\"dataframe\">\n",
       "  <thead>\n",
       "    <tr style=\"text-align: right;\">\n",
       "      <th></th>\n",
       "      <th>budget</th>\n",
       "      <th>popularity</th>\n",
       "      <th>release_date</th>\n",
       "      <th>revenue</th>\n",
       "      <th>runtime</th>\n",
       "      <th>vote_average</th>\n",
       "      <th>vote_count</th>\n",
       "    </tr>\n",
       "  </thead>\n",
       "  <tbody>\n",
       "    <tr>\n",
       "      <th>count</th>\n",
       "      <td>4.369300e+04</td>\n",
       "      <td>43693.000000</td>\n",
       "      <td>43693</td>\n",
       "      <td>4.369300e+04</td>\n",
       "      <td>43693.000000</td>\n",
       "      <td>43693.000000</td>\n",
       "      <td>43693.000000</td>\n",
       "    </tr>\n",
       "    <tr>\n",
       "      <th>mean</th>\n",
       "      <td>4.389674e+06</td>\n",
       "      <td>3.013819</td>\n",
       "      <td>1992-03-29 11:05:50.088114816</td>\n",
       "      <td>1.165921e+07</td>\n",
       "      <td>95.455451</td>\n",
       "      <td>5.676516</td>\n",
       "      <td>114.029456</td>\n",
       "    </tr>\n",
       "    <tr>\n",
       "      <th>min</th>\n",
       "      <td>0.000000e+00</td>\n",
       "      <td>0.000000</td>\n",
       "      <td>1874-12-09 00:00:00</td>\n",
       "      <td>0.000000e+00</td>\n",
       "      <td>0.000000</td>\n",
       "      <td>0.000000</td>\n",
       "      <td>0.000000</td>\n",
       "    </tr>\n",
       "    <tr>\n",
       "      <th>25%</th>\n",
       "      <td>0.000000e+00</td>\n",
       "      <td>0.420116</td>\n",
       "      <td>1978-05-25 00:00:00</td>\n",
       "      <td>0.000000e+00</td>\n",
       "      <td>86.000000</td>\n",
       "      <td>5.000000</td>\n",
       "      <td>3.000000</td>\n",
       "    </tr>\n",
       "    <tr>\n",
       "      <th>50%</th>\n",
       "      <td>0.000000e+00</td>\n",
       "      <td>1.187456</td>\n",
       "      <td>2001-07-18 00:00:00</td>\n",
       "      <td>0.000000e+00</td>\n",
       "      <td>95.000000</td>\n",
       "      <td>6.000000</td>\n",
       "      <td>10.000000</td>\n",
       "    </tr>\n",
       "    <tr>\n",
       "      <th>75%</th>\n",
       "      <td>0.000000e+00</td>\n",
       "      <td>3.902162</td>\n",
       "      <td>2010-12-02 00:00:00</td>\n",
       "      <td>0.000000e+00</td>\n",
       "      <td>107.000000</td>\n",
       "      <td>6.800000</td>\n",
       "      <td>36.000000</td>\n",
       "    </tr>\n",
       "    <tr>\n",
       "      <th>max</th>\n",
       "      <td>3.800000e+08</td>\n",
       "      <td>547.488298</td>\n",
       "      <td>2017-12-27 00:00:00</td>\n",
       "      <td>2.787965e+09</td>\n",
       "      <td>1256.000000</td>\n",
       "      <td>10.000000</td>\n",
       "      <td>14075.000000</td>\n",
       "    </tr>\n",
       "    <tr>\n",
       "      <th>std</th>\n",
       "      <td>1.775194e+07</td>\n",
       "      <td>6.096062</td>\n",
       "      <td>NaN</td>\n",
       "      <td>6.558021e+07</td>\n",
       "      <td>37.218734</td>\n",
       "      <td>1.842330</td>\n",
       "      <td>500.685905</td>\n",
       "    </tr>\n",
       "  </tbody>\n",
       "</table>\n",
       "</div>"
      ],
      "text/plain": [
       "             budget    popularity                   release_date  \\\n",
       "count  4.369300e+04  43693.000000                          43693   \n",
       "mean   4.389674e+06      3.013819  1992-03-29 11:05:50.088114816   \n",
       "min    0.000000e+00      0.000000            1874-12-09 00:00:00   \n",
       "25%    0.000000e+00      0.420116            1978-05-25 00:00:00   \n",
       "50%    0.000000e+00      1.187456            2001-07-18 00:00:00   \n",
       "75%    0.000000e+00      3.902162            2010-12-02 00:00:00   \n",
       "max    3.800000e+08    547.488298            2017-12-27 00:00:00   \n",
       "std    1.775194e+07      6.096062                            NaN   \n",
       "\n",
       "            revenue       runtime  vote_average    vote_count  \n",
       "count  4.369300e+04  43693.000000  43693.000000  43693.000000  \n",
       "mean   1.165921e+07     95.455451      5.676516    114.029456  \n",
       "min    0.000000e+00      0.000000      0.000000      0.000000  \n",
       "25%    0.000000e+00     86.000000      5.000000      3.000000  \n",
       "50%    0.000000e+00     95.000000      6.000000     10.000000  \n",
       "75%    0.000000e+00    107.000000      6.800000     36.000000  \n",
       "max    2.787965e+09   1256.000000     10.000000  14075.000000  \n",
       "std    6.558021e+07     37.218734      1.842330    500.685905  "
      ]
     },
     "execution_count": 229,
     "metadata": {},
     "output_type": "execute_result"
    }
   ],
   "source": [
    "df.describe()"
   ]
  },
  {
   "cell_type": "code",
   "execution_count": 248,
   "metadata": {},
   "outputs": [
    {
     "data": {
      "image/png": "[encoded data removed]",
      "text/plain": [
       "<Figure size 1500x1000 with 9 Axes>"
      ]
     },
     "metadata": {},
     "output_type": "display_data"
    }
   ],
   "source": [
    "import matplotlib.pyplot as plt\n",
    "df.hist(bins=20, figsize=(15, 10))\n",
    "plt.show()"
   ]
  },
  {
   "cell_type": "code",
   "execution_count": 251,
   "metadata": {},
   "outputs": [
    {
     "data": {
      "image/png": "[encoded data removed]",
      "text/plain": [
       "<Figure size 1500x1000 with 9 Axes>"
      ]
     },
     "metadata": {},
     "output_type": "display_data"
    }
   ],
   "source": [
    "import numpy as np\n",
    "bins = int(np.sqrt(len(df)))  # Square Root Rule for bin calculation\n",
    "df.hist(bins=bins, figsize=(15, 10))\n",
    "plt.show()\n"
   ]
  },
  {
   "cell_type": "code",
   "execution_count": 250,
   "metadata": {},
   "outputs": [
    {
     "data": {
      "image/png": "[encoded data removed]",
      "text/plain": [
       "<Figure size 640x480 with 1 Axes>"
      ]
     },
     "metadata": {},
     "output_type": "display_data"
    }
   ],
   "source": [
    "import seaborn as sns\n",
    "sns.boxplot(data=df)\n",
    "plt.show()"
   ]
  }
 ],
 "metadata": {
  "kernelspec": {
   "display_name": "Python 3",
   "language": "python",
   "name": "python3"
  },
  "language_info": {
   "codemirror_mode": {
    "name": "ipython",
    "version": 3
   },
   "file_extension": ".py",
   "mimetype": "text/x-python",
   "name": "python",
   "nbconvert_exporter": "python",
   "pygments_lexer": "ipython3",
   "version": "3.13.2"
  },
  "orig_nbformat": 4
 },
 "nbformat": 4,
 "nbformat_minor": 2
}
